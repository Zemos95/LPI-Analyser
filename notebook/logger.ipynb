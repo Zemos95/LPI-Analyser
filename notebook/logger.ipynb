{
 "cells": [
  {
   "cell_type": "code",
   "execution_count": 10,
   "metadata": {},
   "outputs": [],
   "source": [
    "import logging\n",
    "from logging.handlers import RotatingFileHandler\n",
    "import os\n",
    "\n",
    "class Logger:\n",
    "    _instance = None\n",
    "\n",
    "    def __new__(cls, *args, **kwargs):\n",
    "        if not cls._instance:\n",
    "            cls._instance = super().__new__(cls)\n",
    "        return cls._instance\n",
    "\n",
    "    def __init__(self, name: str = \"LPI-Analyser\", log_file: str = \"application.log\", level: int = logging.INFO):\n",
    "        \"\"\"\n",
    "        Initialisiert den Logger. Der Name des Loggers und der Name der Log-Datei\n",
    "        müssen beim Erstellen der Instanz angegeben werden.\n",
    "        \n",
    "        :param name: Name des Loggers\n",
    "        :param log_file: Name der Log-Datei, die im 'logs'-Ordner gespeichert wird\n",
    "        :param level: Logging-Level (z.B. logging.DEBUG, logging.INFO)\n",
    "        \"\"\"\n",
    "        if not hasattr(self, \"logger\"):\n",
    "            self.logger = logging.getLogger(name)\n",
    "            self.logger.setLevel(level)\n",
    "\n",
    "            # Sicherstellen, dass der Ordner \"logs\" existiert\n",
    "            log_directory = os.path.join(os.getcwd(), \"logs\")\n",
    "            os.makedirs(log_directory, exist_ok=True)\n",
    "\n",
    "            # Log-Dateipfad erstellen\n",
    "            log_file_path = os.path.join(log_directory, log_file)\n",
    "\n",
    "            # Format für Logs\n",
    "            log_format = logging.Formatter(\n",
    "                \"%(asctime)s - %(name)s - %(levelname)s - %(filename)s:%(lineno)d - %(message)s\"\n",
    "            )\n",
    "\n",
    "            # Datei-Handler mit Rotating Logs\n",
    "            file_handler = RotatingFileHandler(\n",
    "                log_file_path, maxBytes=5 * 1024 * 1024, backupCount=3\n",
    "            )\n",
    "            file_handler.setFormatter(log_format)\n",
    "            file_handler.setLevel(level)\n",
    "\n",
    "            # Konsolen-Handler\n",
    "            console_handler = logging.StreamHandler()\n",
    "            console_handler.setFormatter(log_format)\n",
    "            console_handler.setLevel(level)\n",
    "\n",
    "            # Handlers zum Logger hinzufügen\n",
    "            self.logger.addHandler(file_handler)\n",
    "            self.logger.addHandler(console_handler)\n",
    "\n",
    "    def get_logger(self) -> logging.Logger:\n",
    "        \"\"\"Gibt den konfigurierten Logger zurück.\"\"\"\n",
    "        return self.logger\n"
   ]
  },
  {
   "cell_type": "code",
   "execution_count": 11,
   "metadata": {},
   "outputs": [],
   "source": [
    "logger_instance = Logger(name=\"LPI-Analyser\", log_file=\"lpi_analyser.log\", level=logging.DEBUG)\n",
    "logger = logger_instance.get_logger()\n"
   ]
  },
  {
   "cell_type": "code",
   "execution_count": 12,
   "metadata": {},
   "outputs": [
    {
     "name": "stderr",
     "output_type": "stream",
     "text": [
      "2024-12-26 10:40:33,417 - LPI-Analyser - INFO - 2046366426.py:1 - Das ist eine Info-Nachricht.\n",
      "2024-12-26 10:40:33,417 - LPI-Analyser - INFO - 2046366426.py:1 - Das ist eine Info-Nachricht.\n",
      "2024-12-26 10:40:33,420 - LPI-Analyser - WARNING - 2046366426.py:2 - Warnung!\n",
      "2024-12-26 10:40:33,420 - LPI-Analyser - WARNING - 2046366426.py:2 - Warnung!\n",
      "2024-12-26 10:40:33,423 - LPI-Analyser - ERROR - 2046366426.py:6 - Ein Fehler ist aufgetreten: division by zero\n",
      "2024-12-26 10:40:33,423 - LPI-Analyser - ERROR - 2046366426.py:6 - Ein Fehler ist aufgetreten: division by zero\n"
     ]
    }
   ],
   "source": [
    "logger.info(\"Das ist eine Info-Nachricht.\")\n",
    "logger.warning(\"Warnung!\")\n",
    "try:\n",
    "    1 / 0\n",
    "except ZeroDivisionError as e:\n",
    "    logger.error(\"Ein Fehler ist aufgetreten: %s\", e)\n"
   ]
  },
  {
   "cell_type": "code",
   "execution_count": 13,
   "metadata": {},
   "outputs": [
    {
     "name": "stderr",
     "output_type": "stream",
     "text": [
      "2024-12-26 10:40:42,266 - LPI-Analyser - INFO - 2357263027.py:3 - Dies wird in custom_log.log geschrieben.\n",
      "2024-12-26 10:40:42,266 - LPI-Analyser - INFO - 2357263027.py:3 - Dies wird in custom_log.log geschrieben.\n"
     ]
    }
   ],
   "source": [
    "logger_instance = Logger(name=\"CustomLogger\", log_file=\"custom_log.log\")\n",
    "logger = logger_instance.get_logger()\n",
    "logger.info(\"Dies wird in custom_log.log geschrieben.\")\n"
   ]
  }
 ],
 "metadata": {
  "kernelspec": {
   "display_name": "venv",
   "language": "python",
   "name": "python3"
  },
  "language_info": {
   "codemirror_mode": {
    "name": "ipython",
    "version": 3
   },
   "file_extension": ".py",
   "mimetype": "text/x-python",
   "name": "python",
   "nbconvert_exporter": "python",
   "pygments_lexer": "ipython3",
   "version": "3.11.11"
  }
 },
 "nbformat": 4,
 "nbformat_minor": 2
}
